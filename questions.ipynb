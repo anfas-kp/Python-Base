{
 "cells": [
  {
   "cell_type": "raw",
   "id": "836e03a1",
   "metadata": {},
   "source": [
    "creat a 5*5 matrix and extract first two rows and last 3 colmns\n",
    "create 2 2D matrix and perform element wise multiply\n",
    "create a 2D matrix with 2 rows and 3 coloumns,add a 1D array with 3 0D to each rows\n",
    "create a matrix find it T\n",
    "create a 2d extract all elements which is greater than 4\n",
    "find unique elements in each row"
   ]
  },
  {
   "cell_type": "code",
   "execution_count": 13,
   "id": "dbd7f6f3",
   "metadata": {},
   "outputs": [
    {
     "name": "stdout",
     "output_type": "stream",
     "text": [
      "[[1 2 3]\n",
      " [4 5 6]]\n"
     ]
    },
    {
     "data": {
      "text/plain": [
       "array([[1, 1, 2, 3],\n",
       "       [2, 4, 2, 3]])"
      ]
     },
     "execution_count": 13,
     "metadata": {},
     "output_type": "execute_result"
    }
   ],
   "source": [
    "import numpy as n\n",
    "# a=n.arange(1,26).reshape(5,5)\n",
    "# print(a)\n",
    "# print(a[0:2,2:])\n",
    "\n",
    "# a=n.arange(1,5).reshape(2,2)\n",
    "# b=n.arange(5,9).reshape(2,2)\n",
    "# print(a*b)\n",
    "\n",
    "a=n.arange(1,7).reshape(2,3)\n",
    "print(a)\n",
    "b=n.array([1,2,3])\n",
    "a+b\n",
    "\n",
    "a=n.arange(1,7).reshape(2,3)\n",
    "a.T\n",
    "\n",
    "a=n.arange(1,7).reshape(2,3)\n",
    "x=[i for i in n.nditer(a) if i>4]\n",
    "x\n",
    "\n",
    "a=n.array([[1,1,2,3,1],[2,4,2,3,2]])\n",
    "n.unique(a,axis=1)"
   ]
  },
  {
   "cell_type": "raw",
   "id": "455b7431",
   "metadata": {},
   "source": [
    "create a 2D array with random numbers and replace all odd numbers with -1\n",
    "find commen elements between 2 arrays,which should be 2D\n",
    "find sum of all elements in a 2D\n",
    "CREATE a check board pattern of 3*3 matrix\n",
    "create a 2D ARRAY with boarder=ones and inside all elements should be 0"
   ]
  },
  {
   "cell_type": "code",
   "execution_count": 29,
   "id": "2aa30450",
   "metadata": {},
   "outputs": [
    {
     "name": "stdout",
     "output_type": "stream",
     "text": [
      "[[32 -1]\n",
      " [ 4 22]\n",
      " [-1 -1]\n",
      " [46 12]\n",
      " [20 -1]]\n",
      "[2 5 7 8 9]\n",
      "49\n"
     ]
    }
   ],
   "source": [
    "import numpy as n\n",
    "from numpy import random\n",
    "a=random.randint(1,50,size=(5,2))\n",
    "# a=[i for i in n.nditer(a) if i%2!=0]\n",
    "for i,j in n.ndenumerate(a):\n",
    "    if j%2!=0:\n",
    "       a[i]=-1\n",
    "print(a)\n",
    "\n",
    "\n",
    "a=random.randint(1,10,size=(5,2))\n",
    "b=random.randint(1,10,size=(5,2))\n",
    "# x=[i for i in n.nditer()aif i==j]\n",
    "print(n.intersect1d(a.flatten(),b.flatten()))\n",
    "\n",
    "a=random.randint(1,10,size=(5,2))\n",
    "print(n.sum(a))\n"
   ]
  },
  {
   "cell_type": "code",
   "execution_count": 44,
   "id": "e68e55b8",
   "metadata": {},
   "outputs": [
    {
     "name": "stdout",
     "output_type": "stream",
     "text": [
      "[[0 1 0]\n",
      " [1 0 1]\n",
      " [0 1 0]]\n"
     ]
    }
   ],
   "source": [
    "a=n.ones(9).reshape(3,3)\n",
    "a=a.astype(int)\n",
    "a[::2,::2]=0\n",
    "a[1,1::2]=0\n",
    "print(a)"
   ]
  },
  {
   "cell_type": "code",
   "execution_count": 74,
   "id": "269d5ea0",
   "metadata": {},
   "outputs": [
    {
     "data": {
      "text/plain": [
       "array([[1, 1, 1, 1, 1],\n",
       "       [1, 0, 0, 0, 1],\n",
       "       [1, 0, 0, 0, 1],\n",
       "       [1, 0, 0, 0, 1],\n",
       "       [1, 1, 1, 1, 1]])"
      ]
     },
     "execution_count": 74,
     "metadata": {},
     "output_type": "execute_result"
    }
   ],
   "source": [
    "a=n.ones(25).reshape(5,5)\n",
    "a=a.astype(int)\n",
    "a[1:-1,1:-1]=0\n",
    "a"
   ]
  },
  {
   "cell_type": "raw",
   "id": "1bbec93c",
   "metadata": {},
   "source": [
    "program to concatinate 2 1d arrays\n",
    "program to concatinate arr1=[[1,2,3,4]] with arr2=[[5,6,7,8]] along rows\n",
    "program to stack 2 1d array vertically"
   ]
  },
  {
   "cell_type": "code",
   "execution_count": 92,
   "id": "b446b8d9",
   "metadata": {},
   "outputs": [
    {
     "data": {
      "text/plain": [
       "array([[[1, 5],\n",
       "        [2, 6],\n",
       "        [3, 7],\n",
       "        [4, 8]]])"
      ]
     },
     "execution_count": 92,
     "metadata": {},
     "output_type": "execute_result"
    }
   ],
   "source": [
    "a=n.array([1,2,3,4])\n",
    "b=n.array([5,6,7,8])\n",
    "n.concatenate((a,b))\n",
    "\n",
    "a=n.array([[1,2,3,4]])\n",
    "b=n.array([[5,6,7,8]])\n",
    "n.concatenate((a,b),axis=1)\n",
    "\n",
    "a=n.array([1,2,3,4])\n",
    "b=n.array([5,6,7,8])\n",
    "n.dstack((a,b))"
   ]
  },
  {
   "cell_type": "raw",
   "id": "5e03db6c",
   "metadata": {},
   "source": [
    "write a program to sort a 2d array in row wise and coloumn wise\n",
    "program to find smallest element in an array\n",
    "program to sort an array of strings in alphabetical order\n",
    "write a program to find missing values of arrayt"
   ]
  },
  {
   "cell_type": "code",
   "execution_count": 95,
   "id": "729f3031",
   "metadata": {},
   "outputs": [
    {
     "name": "stdout",
     "output_type": "stream",
     "text": [
      "[[6 3]\n",
      " [5 8]\n",
      " [3 4]\n",
      " [2 3]\n",
      " [3 2]]\n",
      "[[2 2]\n",
      " [3 3]\n",
      " [3 3]\n",
      " [5 4]\n",
      " [6 8]]\n",
      "[[3 6]\n",
      " [5 8]\n",
      " [3 4]\n",
      " [2 3]\n",
      " [2 3]]\n"
     ]
    }
   ],
   "source": [
    "a=random.randint(1,10,size=(5,2))\n",
    "print(a)\n",
    "print(n.sort(a,axis=0))\n",
    "print(n.sort(a,axis=1))\n",
    "\n",
    "a=random.randint(1,10,size=(5,2))\n",
    "n.min(a)"
   ]
  },
  {
   "cell_type": "code",
   "execution_count": 103,
   "id": "d2b093a7",
   "metadata": {},
   "outputs": [
    {
     "data": {
      "text/plain": [
       "array(['and', 'ard', 'who', 'you'], dtype='<U3')"
      ]
     },
     "execution_count": 103,
     "metadata": {},
     "output_type": "execute_result"
    }
   ],
   "source": [
    "a=n.array(['ard','you','and','who'])\n",
    "n.sort(a)"
   ]
  },
  {
   "cell_type": "code",
   "execution_count": 122,
   "id": "25064a08",
   "metadata": {},
   "outputs": [
    {
     "name": "stdout",
     "output_type": "stream",
     "text": [
      "[8 6 2 5 7 7 4 4 6 3]\n",
      "[ 1  2  3  4  5  6  7  8  9 10]\n"
     ]
    },
    {
     "data": {
      "text/plain": [
       "[1, 9, 10]"
      ]
     },
     "execution_count": 122,
     "metadata": {},
     "output_type": "execute_result"
    }
   ],
   "source": [
    "a=random.randint(1,10,size=(10))\n",
    "print(a)\n",
    "b=n.arange(1,11)\n",
    "print(b)\n",
    "x=[i for i in b if i not in a]\n",
    "x\n",
    "# s=[]\n",
    "# for i,j in n.nditer((a,b)):\n",
    "#         if j not in a:\n",
    "#             print(j)"
   ]
  }
 ],
 "metadata": {
  "kernelspec": {
   "display_name": "Python 3 (ipykernel)",
   "language": "python",
   "name": "python3"
  },
  "language_info": {
   "codemirror_mode": {
    "name": "ipython",
    "version": 3
   },
   "file_extension": ".py",
   "mimetype": "text/x-python",
   "name": "python",
   "nbconvert_exporter": "python",
   "pygments_lexer": "ipython3",
   "version": "3.9.13"
  }
 },
 "nbformat": 4,
 "nbformat_minor": 5
}
