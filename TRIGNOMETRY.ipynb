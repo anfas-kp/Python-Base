{
 "cells": [
  {
   "cell_type": "code",
   "execution_count": 3,
   "id": "53b7d925",
   "metadata": {},
   "outputs": [
    {
     "data": {
      "text/plain": [
       "array([ 45., 270., 180.])"
      ]
     },
     "execution_count": 3,
     "metadata": {},
     "output_type": "execute_result"
    }
   ],
   "source": [
    "#find the sin value of 60\n",
    "import numpy as n\n",
    "n.sin(60*(n.pi/180))\n",
    "n.sin(n.deg2rad(60))\n",
    "#cos180\n",
    "n.cos(n.deg2rad(180))\n",
    "#sin 360,cosec310,sec390,cot135\n",
    "#write a program to calculate the value of cosec^2 135 + sec^2 135\n",
    "a=n.sin(n.deg2rad(450))\n",
    "n.around(a)\n",
    "1/(n.sin(n.deg2rad(310)))\n",
    "1/(n.cos(n.deg2rad(390)))\n",
    "1/(n.tan(n.deg2rad(135)))\n",
    "a=1/(n.sin(n.deg2rad(135)))\n",
    "b=1/(n.cos(n.deg2rad(135)))\n",
    "a**2+b**2\n",
    "n.rad2deg(n.pi/2)\n",
    "#pi,3pi/2,pi/4 into degree\n",
    "n.array([n.rad2deg(n.pi/4),n.rad2deg(3*n.pi/2),n.rad2deg(n.pi)])"
   ]
  },
  {
   "cell_type": "markdown",
   "id": "ffaaf297",
   "metadata": {},
   "source": [
    "## FINDING ANGLES"
   ]
  },
  {
   "cell_type": "code",
   "execution_count": 13,
   "id": "d12d7c8e",
   "metadata": {},
   "outputs": [
    {
     "data": {
      "text/plain": [
       "array([180.,   0.,  90.,  60.])"
      ]
     },
     "execution_count": 13,
     "metadata": {},
     "output_type": "execute_result"
    }
   ],
   "source": [
    "# angle of arc sin 1\n",
    "a=n.arcsin(n.array([1]))\n",
    "n.rad2deg(a)\n",
    "#angles of arrays of elements -1,1,0,.5 using arcsin,arccos\n",
    "a=n.arcsin(n.array([-1,1,0,.5]))\n",
    "n.rad2deg(a)\n",
    "b=n.arccos(n.array([-1,1,0,.5]))\n",
    "n.rad2deg(b)"
   ]
  },
  {
   "cell_type": "markdown",
   "id": "64b1411e",
   "metadata": {},
   "source": [
    "## HYPOTENOUS"
   ]
  },
  {
   "cell_type": "code",
   "execution_count": 16,
   "id": "6f3c40bb",
   "metadata": {},
   "outputs": [
    {
     "data": {
      "text/plain": [
       "5.0"
      ]
     },
     "execution_count": 16,
     "metadata": {},
     "output_type": "execute_result"
    }
   ],
   "source": [
    "#to compute hypot of trgl withs 3&4\n",
    "n.hypot(3,4)"
   ]
  },
  {
   "cell_type": "code",
   "execution_count": 22,
   "id": "fdc31c11",
   "metadata": {},
   "outputs": [
    {
     "data": {
      "text/plain": [
       "3.605551275463989"
      ]
     },
     "execution_count": 22,
     "metadata": {},
     "output_type": "execute_result"
    }
   ],
   "source": [
    "a=n.array([2,4,6,8])\n",
    "b=n.array([3,5,7,9])\n",
    "n.hypot(a,b)"
   ]
  }
 ],
 "metadata": {
  "kernelspec": {
   "display_name": "Python 3 (ipykernel)",
   "language": "python",
   "name": "python3"
  },
  "language_info": {
   "codemirror_mode": {
    "name": "ipython",
    "version": 3
   },
   "file_extension": ".py",
   "mimetype": "text/x-python",
   "name": "python",
   "nbconvert_exporter": "python",
   "pygments_lexer": "ipython3",
   "version": "3.9.13"
  }
 },
 "nbformat": 4,
 "nbformat_minor": 5
}
