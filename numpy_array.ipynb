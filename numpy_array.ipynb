{
 "cells": [
  {
   "cell_type": "code",
   "execution_count": 1,
   "id": "e2050462",
   "metadata": {},
   "outputs": [
    {
     "name": "stdout",
     "output_type": "stream",
     "text": [
      "35\n"
     ]
    }
   ],
   "source": [
    "#write a program to create a simple 1D array\n",
    "import numpy as n\n",
    "a=n.array([1,5,3])\n",
    "b=n.array([1,5,3])\n",
    "print(a.dot(b))"
   ]
  },
  {
   "cell_type": "code",
   "execution_count": 2,
   "id": "7a4a2973",
   "metadata": {},
   "outputs": [
    {
     "name": "stdout",
     "output_type": "stream",
     "text": [
      "[[1 2]\n",
      " [5 6]\n",
      " [3 5]]\n"
     ]
    },
    {
     "data": {
      "text/plain": [
       "(3, 2)"
      ]
     },
     "execution_count": 2,
     "metadata": {},
     "output_type": "execute_result"
    }
   ],
   "source": [
    "#write a program to create a simple 2D array\n",
    "a=n.array([[1,5,3],[2,6,5]])\n",
    "print(a.transpose())\n",
    "b=a.transpose()\n",
    "a.ndim\n",
    "b.shape"
   ]
  },
  {
   "cell_type": "code",
   "execution_count": 3,
   "id": "ce74f45a",
   "metadata": {},
   "outputs": [
    {
     "name": "stdout",
     "output_type": "stream",
     "text": [
      "[[[1 5]\n",
      "  [2 6]]\n",
      "\n",
      " [[1 2]\n",
      "  [1 3]]]\n"
     ]
    },
    {
     "data": {
      "text/plain": [
       "(2, 2, 2)"
      ]
     },
     "execution_count": 3,
     "metadata": {},
     "output_type": "execute_result"
    }
   ],
   "source": [
    "#write a program to create a simple 3D array\n",
    "a=n.array([[[1,5],[2,6]],[[1,2],[1,3]]])\n",
    "print(a)\n",
    "a.ndim\n",
    "a.shape"
   ]
  },
  {
   "cell_type": "code",
   "execution_count": 4,
   "id": "94481c36",
   "metadata": {},
   "outputs": [
    {
     "name": "stdout",
     "output_type": "stream",
     "text": [
      "sum: [[ 6  8]\n",
      " [10 12]]\n",
      "sub: [[-4 -4]\n",
      " [-4 -4]]\n",
      "mul: [[19 22]\n",
      " [43 50]]\n",
      "div: [[0.2        0.33333333]\n",
      " [0.42857143 0.5       ]]\n"
     ]
    }
   ],
   "source": [
    "#write a program mathematic operation in array\n",
    "a=n.array([[1,2],[3,4]])\n",
    "b=n.array([[5,6],[7,8]])\n",
    "add=a+b\n",
    "sub=a-b\n",
    "mul=n.matmul(a,b)\n",
    "div=a/b\n",
    "print(f'sum: {add}\\nsub: {sub}\\nmul: {mul}\\ndiv: {div}')"
   ]
  },
  {
   "cell_type": "code",
   "execution_count": 5,
   "id": "b7d95b2d",
   "metadata": {},
   "outputs": [
    {
     "name": "stdout",
     "output_type": "stream",
     "text": [
      "[28 27 16 23 19 18 33]\n"
     ]
    }
   ],
   "source": [
    "#write a program to print a array range between 1 to 40 and show 7 int random numbers\n",
    "import random\n",
    "a=[]\n",
    "for i in range(7):\n",
    "    x=random.randrange(1,40)\n",
    "    a.append(x)\n",
    "b=n.array(a)\n",
    "print(b)"
   ]
  },
  {
   "cell_type": "code",
   "execution_count": 6,
   "id": "8811491d",
   "metadata": {},
   "outputs": [
    {
     "name": "stdout",
     "output_type": "stream",
     "text": [
      "[ 1  8 15 22 29 36]\n"
     ]
    }
   ],
   "source": [
    "x=[i for i in range(1,40,7)]\n",
    "a=n.array(x)\n",
    "print(a)"
   ]
  },
  {
   "cell_type": "code",
   "execution_count": 7,
   "id": "b771e357",
   "metadata": {},
   "outputs": [
    {
     "name": "stdout",
     "output_type": "stream",
     "text": [
      "[39 17 31 21 13 39 17]\n"
     ]
    }
   ],
   "source": [
    "a=n.random.randint(1,40,7)\n",
    "print(a)"
   ]
  },
  {
   "cell_type": "code",
   "execution_count": 8,
   "id": "ad2adef8",
   "metadata": {},
   "outputs": [
    {
     "name": "stdout",
     "output_type": "stream",
     "text": [
      "[[ 5 12]\n",
      " [21 32]]\n"
     ]
    }
   ],
   "source": [
    "a=n.array([[1,2],[3,4]])\n",
    "b=n.array([[5,6],[7,8]])\n",
    "print(n.multiply(a,b))"
   ]
  },
  {
   "cell_type": "code",
   "execution_count": 9,
   "id": "d1dd3a91",
   "metadata": {},
   "outputs": [
    {
     "data": {
      "text/plain": [
       "'1.21.5'"
      ]
     },
     "execution_count": 9,
     "metadata": {},
     "output_type": "execute_result"
    }
   ],
   "source": [
    "n.__version__"
   ]
  },
  {
   "cell_type": "code",
   "execution_count": 10,
   "id": "3aa87694",
   "metadata": {},
   "outputs": [
    {
     "name": "stdout",
     "output_type": "stream",
     "text": [
      "[[ 5 12]\n",
      " [21 32]]\n"
     ]
    }
   ],
   "source": [
    "a=n.array([[1,2],[3,4]])\n",
    "b=n.array([[5,6],[7,8]])\n",
    "print(n.multiply(a,b))"
   ]
  },
  {
   "cell_type": "code",
   "execution_count": 11,
   "id": "dd2c70d0",
   "metadata": {},
   "outputs": [
    {
     "name": "stdout",
     "output_type": "stream",
     "text": [
      "[[[[[1 2 3]]]]]\n"
     ]
    },
    {
     "data": {
      "text/plain": [
       "5"
      ]
     },
     "execution_count": 11,
     "metadata": {},
     "output_type": "execute_result"
    }
   ],
   "source": [
    "#write a program to set dimension of an array to 5\n",
    "a=n.array([1,2,3],ndmin=5)\n",
    "print(a)\n",
    "a.ndim"
   ]
  },
  {
   "cell_type": "code",
   "execution_count": 12,
   "id": "cf1866e9",
   "metadata": {},
   "outputs": [
    {
     "name": "stdout",
     "output_type": "stream",
     "text": [
      "6\n"
     ]
    }
   ],
   "source": [
    "a=n.array([[1,2,3],[4,5,6]])\n",
    "print(a[1,2])"
   ]
  },
  {
   "cell_type": "code",
   "execution_count": 13,
   "id": "27ce9bc0",
   "metadata": {},
   "outputs": [
    {
     "name": "stdout",
     "output_type": "stream",
     "text": [
      "[0 1 2 3 4 5 6 7 8 9]\n"
     ]
    }
   ],
   "source": [
    "#arrange function\n",
    "a=n.arange(0,10,1)\n",
    "print(a)"
   ]
  },
  {
   "cell_type": "code",
   "execution_count": 14,
   "id": "3913fa50",
   "metadata": {},
   "outputs": [
    {
     "name": "stdout",
     "output_type": "stream",
     "text": [
      "[ 50  52  54  56  58  60  62  64  66  68  70  72  74  76  78  80  82  84\n",
      "  86  88  90  92  94  96  98 100]\n",
      "[51 53 55 57 59 61 63 65 67 69 71 73 75 77 79 81 83 85 87 89 91 93 95 97\n",
      " 99]\n"
     ]
    }
   ],
   "source": [
    "#program to print all even and odd numbers 50 to 100\n",
    "a=n.arange(50,101,2)\n",
    "print(a)\n",
    "a=n.arange(51,100,2)\n",
    "print(a)"
   ]
  },
  {
   "cell_type": "code",
   "execution_count": 15,
   "id": "a2920550",
   "metadata": {},
   "outputs": [
    {
     "name": "stdout",
     "output_type": "stream",
     "text": [
      "[1.  1.1 1.2 1.3 1.4 1.5 1.6 1.7 1.8 1.9]\n"
     ]
    }
   ],
   "source": [
    "#print all number to 1 t0 2\n",
    "a=n.arange(1,2,.1)\n",
    "print(a)"
   ]
  },
  {
   "cell_type": "code",
   "execution_count": 16,
   "id": "8ee440ed",
   "metadata": {},
   "outputs": [
    {
     "name": "stdout",
     "output_type": "stream",
     "text": [
      "[[0 0]\n",
      " [0 0]]\n"
     ]
    }
   ],
   "source": [
    "#create array with full zeros\n",
    "b=n.zeros((2,2),dtype=int)\n",
    "print(b)"
   ]
  },
  {
   "cell_type": "code",
   "execution_count": 17,
   "id": "9858745f",
   "metadata": {},
   "outputs": [
    {
     "name": "stdout",
     "output_type": "stream",
     "text": [
      "[[1 1]\n",
      " [1 1]]\n"
     ]
    }
   ],
   "source": [
    "#create array with full ones\n",
    "b=n.ones((2,2),dtype=int)\n",
    "print(b)"
   ]
  },
  {
   "cell_type": "code",
   "execution_count": 18,
   "id": "f870768b-0d63-465c-8f5a-a3bf0e4f28ed",
   "metadata": {},
   "outputs": [
    {
     "name": "stdout",
     "output_type": "stream",
     "text": [
      "[[10 10]\n",
      " [10 10]]\n",
      "[[-8 -8]\n",
      " [-8 -8]]\n",
      "[[0.11111111 0.11111111]\n",
      " [0.11111111 0.11111111]]\n",
      "\n"
     ]
    }
   ],
   "source": [
    "#write a program to add 9 to a zero matrix\n",
    "b=n.ones((2,2),dtype=int)\n",
    "print(f'{b+9}\\n{b-9}\\n{b/9}\\n')"
   ]
  },
  {
   "cell_type": "code",
   "execution_count": 19,
   "id": "2ddd4f9d-a55d-4f43-ad86-24a2c0a4b2e9",
   "metadata": {
    "scrolled": true
   },
   "outputs": [
    {
     "name": "stdout",
     "output_type": "stream",
     "text": [
      "[[1 2 3]\n",
      " [4 5 6]]\n",
      "add:=[[ 6  7  8]\n",
      " [ 9 10 11]]\n",
      "sub=[[-4 -3 -2]\n",
      " [-1  0  1]]\n",
      "mul=[[ 5 10 15]\n",
      " [20 25 30]]\n",
      "div=[[0.2 0.4 0.6]\n",
      " [0.8 1.  1.2]]\n"
     ]
    }
   ],
   "source": [
    "#to craete 2d array which contains values 1,2,3,4,5,6\n",
    "#acces 5 from this array and store to variable\n",
    "#using that variable update the matrix by using scalar addition,multi,sub,div\n",
    "a=n.array([[1,2,3],[4,5,6]])\n",
    "print(a)\n",
    "b=a[1,1]\n",
    "print(f'add:={a+b}\\nsub={a-b}\\nmul={a*b}\\ndiv={a/b}')"
   ]
  },
  {
   "cell_type": "code",
   "execution_count": 20,
   "id": "123f91bf",
   "metadata": {},
   "outputs": [
    {
     "name": "stdout",
     "output_type": "stream",
     "text": [
      "[3 6]\n"
     ]
    }
   ],
   "source": [
    "a=n.array([[[1,2,3]],[[2,3,6]]])\n",
    "print(a[1,0,1:])"
   ]
  },
  {
   "cell_type": "code",
   "execution_count": 21,
   "id": "fc98baf6",
   "metadata": {},
   "outputs": [
    {
     "name": "stdout",
     "output_type": "stream",
     "text": [
      "[5 6]\n"
     ]
    }
   ],
   "source": [
    "a=n.array([[[1,2,3]],[[3,4,5]],[[5,6,7]]])\n",
    "a.shape\n",
    "print(a[2,0,:2])"
   ]
  },
  {
   "cell_type": "code",
   "execution_count": 22,
   "id": "ab369cb2",
   "metadata": {},
   "outputs": [
    {
     "data": {
      "text/plain": [
       "dtype('int32')"
      ]
     },
     "execution_count": 22,
     "metadata": {},
     "output_type": "execute_result"
    }
   ],
   "source": [
    "a=n.array([1],dtype='int32')\n",
    "a.dtype"
   ]
  },
  {
   "cell_type": "code",
   "execution_count": 23,
   "id": "efb4421c",
   "metadata": {},
   "outputs": [
    {
     "data": {
      "text/plain": [
       "7"
      ]
     },
     "execution_count": 23,
     "metadata": {},
     "output_type": "execute_result"
    }
   ],
   "source": [
    "x=n.array([[1,2],[2,3]],ndmin=5)\n",
    "#to acces 3 from the array\n",
    "x[0,0,0,1,1]\n",
    "#write a prgrm to convert 1d to 2d\n",
    "a=n.array([2],ndmin=2)\n",
    "#write a prgrm to convert 1d to 2*3\n",
    "b=n.array([1,2,3,4,5,6])\n",
    "b.reshape(2,3)\n",
    "#create a values of array ranging from 2to10 and acces 7 from it\n",
    "a=n.array([2,3,4,5,6,7,8,9,10])\n",
    "a[5]"
   ]
  },
  {
   "cell_type": "code",
   "execution_count": 24,
   "id": "5fb2765f",
   "metadata": {},
   "outputs": [
    {
     "data": {
      "text/plain": [
       "array([[[1],\n",
       "        [2],\n",
       "        [3]],\n",
       "\n",
       "       [[4],\n",
       "        [5],\n",
       "        [6]]])"
      ]
     },
     "execution_count": 24,
     "metadata": {},
     "output_type": "execute_result"
    }
   ],
   "source": [
    "b=n.array([1,2,3,4,5,6])\n",
    "b.reshape(2,3,1)"
   ]
  },
  {
   "cell_type": "code",
   "execution_count": 25,
   "id": "8de9a25b",
   "metadata": {},
   "outputs": [
    {
     "data": {
      "text/plain": [
       "array([5, 7])"
      ]
     },
     "execution_count": 25,
     "metadata": {},
     "output_type": "execute_result"
    }
   ],
   "source": [
    "b=n.array([[[1,2,3]],[[2,3,5]],[[4,5,7]]])\n",
    "b[2,0,1:]"
   ]
  },
  {
   "cell_type": "code",
   "execution_count": 26,
   "id": "c2e758ec",
   "metadata": {
    "scrolled": false
   },
   "outputs": [
    {
     "name": "stdout",
     "output_type": "stream",
     "text": [
      "[ 1  2  3  4  5  6  7  8  9 10 11 12 13 14 15 16 17 18 19 20]\n",
      "[[[ 1]\n",
      "  [ 2]]\n",
      "\n",
      " [[ 3]\n",
      "  [ 4]]\n",
      "\n",
      " [[ 5]\n",
      "  [ 6]]\n",
      "\n",
      " [[ 7]\n",
      "  [ 8]]\n",
      "\n",
      " [[ 9]\n",
      "  [10]]\n",
      "\n",
      " [[11]\n",
      "  [12]]\n",
      "\n",
      " [[13]\n",
      "  [14]]\n",
      "\n",
      " [[15]\n",
      "  [16]]\n",
      "\n",
      " [[17]\n",
      "  [18]]\n",
      "\n",
      " [[19]\n",
      "  [20]]]\n"
     ]
    },
    {
     "data": {
      "text/plain": [
       "11"
      ]
     },
     "execution_count": 26,
     "metadata": {},
     "output_type": "execute_result"
    }
   ],
   "source": [
    "#write a program read values from 1 to 20 and create a 1d array using the values and re shape it to 3d\n",
    "a=n.arange(1,21)\n",
    "print(a)\n",
    "b=a.reshape(10,2,1)\n",
    "print(b)\n",
    "b[5,0,0]"
   ]
  },
  {
   "cell_type": "code",
   "execution_count": 27,
   "id": "c2b2058a",
   "metadata": {
    "scrolled": true
   },
   "outputs": [
    {
     "data": {
      "text/plain": [
       "array([[1, 2]])"
      ]
     },
     "execution_count": 27,
     "metadata": {},
     "output_type": "execute_result"
    }
   ],
   "source": [
    "a=n.array([[[1,2]]])\n",
    "a.reshape(-1,2)"
   ]
  },
  {
   "cell_type": "code",
   "execution_count": 28,
   "id": "4a31067b",
   "metadata": {
    "scrolled": true
   },
   "outputs": [
    {
     "data": {
      "text/plain": [
       "dtype('int32')"
      ]
     },
     "execution_count": 28,
     "metadata": {},
     "output_type": "execute_result"
    }
   ],
   "source": [
    "a=n.array([True,False])\n",
    "a.dtype\n",
    "b=n.array(['g','g'],dtype='S')\n",
    "b.dtype\n",
    "c=n.array([3,8],dtype='F')#TO COMPLEX\n",
    "c.dtype\n",
    "d=n.array([3,8],dtype='f')# to float\n",
    "d.dtype\n",
    "e=n.array([3.4,8.7],dtype='i')# to int\n",
    "e.dtype"
   ]
  },
  {
   "cell_type": "code",
   "execution_count": 29,
   "id": "30090b2e",
   "metadata": {},
   "outputs": [
    {
     "ename": "SyntaxError",
     "evalue": "invalid syntax (4115320452.py, line 2)",
     "output_type": "error",
     "traceback": [
      "\u001b[1;36m  File \u001b[1;32m\"C:\\Users\\Pc\\AppData\\Local\\Temp\\ipykernel_17116\\4115320452.py\"\u001b[1;36m, line \u001b[1;32m2\u001b[0m\n\u001b[1;33m    for\u001b[0m\n\u001b[1;37m        ^\u001b[0m\n\u001b[1;31mSyntaxError\u001b[0m\u001b[1;31m:\u001b[0m invalid syntax\n"
     ]
    }
   ],
   "source": [
    "a=n.array([[1,2,3],[3,4,5]])\n",
    "for "
   ]
  },
  {
   "cell_type": "code",
   "execution_count": null,
   "id": "277415d9",
   "metadata": {
    "scrolled": true
   },
   "outputs": [],
   "source": [
    "#replacing array iteams\n",
    "a=n.array([[1,2,3],[3,4,5]])\n",
    "b=n.array([[1,2,3],[3,4,5]])\n",
    "c=n.array([[1,2,3],[3,4,5]])\n",
    "d=n.array([[[1,2,3]],[[3,4,5]]])#3D\n",
    "d[1,0,0]=9\n",
    "c[1,::2]=6 #using step\n",
    "a[1:]=1\n",
    "b[1,0]=6\n",
    "print(a)\n",
    "print(b)\n",
    "print(c)\n",
    "print(d)"
   ]
  },
  {
   "cell_type": "code",
   "execution_count": null,
   "id": "a91431cd",
   "metadata": {
    "scrolled": true
   },
   "outputs": [],
   "source": [
    "# iterate through array\n",
    "a=n.array([[1,2,3],[3,4,5]])\n",
    "for i in n.nditer(a):\n",
    "    print(i)\n",
    "a=n.array([[[1,2,3]],[[3,4,5]]])\n",
    "for j in n.nditer(a):\n",
    "    print(j)"
   ]
  },
  {
   "cell_type": "code",
   "execution_count": null,
   "id": "9ec39583",
   "metadata": {},
   "outputs": [],
   "source": [
    "#print element and their positon element\n",
    "a=[1,2,3]\n",
    "for i in enumerate(a):\n",
    "    print(i)"
   ]
  },
  {
   "cell_type": "code",
   "execution_count": null,
   "id": "d52fbddd",
   "metadata": {
    "scrolled": true
   },
   "outputs": [],
   "source": [
    "a=n.array([[1,2,3],[3,4,5]])\n",
    "for i in n.ndenumerate(a):\n",
    "    print(i)\n",
    "    \n",
    "a=n.array([[[1,2,3]],[[3,4,5]]])\n",
    "for i in n.ndenumerate(a):\n",
    "    print(i)"
   ]
  },
  {
   "cell_type": "code",
   "execution_count": null,
   "id": "1f34d5a9",
   "metadata": {
    "scrolled": true
   },
   "outputs": [],
   "source": [
    "# #numpy array joining\n",
    "a=n.array([1,2,3])\n",
    "b=n.array([6,7,8])\n",
    "n.concatenate((a,b))\n",
    "          \n",
    "#2d joining\n",
    "a=n.array([[1,2,3],[3,4,5]])\n",
    "b=n.array([[6,7,8],[8,9,10]])\n",
    "n.concatenate((a,b))\n",
    "\n",
    "#3d joining\n",
    "a=n.array([[[1,2,3]],[[3,4,5]]])\n",
    "b=n.array([[[6,7,8]],[[8,9,10]]])\n",
    "n.concatenate((a,b),axis=1)\n",
    "\n",
    "#based on axis\n",
    "a=n.array([[[1,2,3]]])\n",
    "b=n.array([[[6,7,8]]])\n",
    "n.concatenate((a,b),axis=1)\n",
    "\n",
    "a=n.array([[[1,2]],[[3,4]],[[5,6]]])\n",
    "b=n.array([[[11,22]],[[33,44]],[[55,66]]])\n",
    "c=n.concatenate((a,b),axis=1)\n",
    "print('axis 1:\\n',c)\n",
    "#axis 2\n",
    "a=n.array([[[1,2]],[[3,4]],[[5,6]]])\n",
    "b=n.array([[[11,22]],[[33,44]],[[55,66]]])\n",
    "d=n.concatenate((a,b),axis=2)\n",
    "print('axis 2:\\n',d)\n",
    "#axis 3\n",
    "a=n.array([[[[1,2]],[[3,4]],[[5,6]]]])\n",
    "b=n.array([[[[11,22]],[[33,44]],[[55,66]]]])\n",
    "e=n.concatenate((a,b),axis=3)\n",
    "print('axis 3:\\n',e)"
   ]
  },
  {
   "cell_type": "code",
   "execution_count": null,
   "id": "4a0145d6",
   "metadata": {
    "scrolled": true
   },
   "outputs": [],
   "source": [
    "#write a program to create a 2d array with one on the boarder and zero inside\n",
    "# b=n.ones((3,4),dtype=int)\n",
    "# b[1,1:3]=0\n",
    "# print(b)\n",
    "c=n.zeros((3,4),dtype=int)\n",
    "c[::2,:]=1\n",
    "c[1,::3]=1\n",
    "# c[2,0:]=1\n",
    "print(c)"
   ]
  },
  {
   "cell_type": "code",
   "execution_count": null,
   "id": "de076402",
   "metadata": {},
   "outputs": [],
   "source": [
    "#write a numpy program to 8*8 matrix and fill it with check board pattern\n",
    "b=n.ones((8,8),dtype=int)\n",
    "b[::2,::2]=0\n",
    "b[1::2,1::2]=0\n",
    "print(b)"
   ]
  },
  {
   "cell_type": "code",
   "execution_count": null,
   "id": "682af795",
   "metadata": {},
   "outputs": [],
   "source": [
    "b=n.zeros((8,8),dtype=int)\n",
    "b[::2,::2]=1\n",
    "b[1::2,1::2]=1\n",
    "print(b)"
   ]
  },
  {
   "cell_type": "code",
   "execution_count": null,
   "id": "35b4cbf7",
   "metadata": {},
   "outputs": [],
   "source": [
    "#write a numpy program to 8*8 matrix of 9 and fill it with 6 with alternate value\n",
    "b=n.full((8,8),9)# to create matrix\n",
    "b[::2,::2]=6\n",
    "b[1::2,1::2]=6\n",
    "print(b)"
   ]
  },
  {
   "cell_type": "code",
   "execution_count": null,
   "id": "4bae891e",
   "metadata": {},
   "outputs": [],
   "source": [
    "a=n.zeros((9,9),dtype=int)\n",
    "a[1:-1,1:-1]=1\n",
    "a[2:-2,2:-2]=2\n",
    "a[3:-3,3:-3]=3\n",
    "a[4,4]=4\n",
    "print(a)"
   ]
  },
  {
   "cell_type": "code",
   "execution_count": null,
   "id": "ac3c43d7",
   "metadata": {},
   "outputs": [],
   "source": [
    "a=n.ones((5,5),dtype=int)\n",
    "a[1:-1,1:-1]=2\n",
    "a[2,2]=8\n",
    "a"
   ]
  },
  {
   "cell_type": "code",
   "execution_count": null,
   "id": "78693fd6",
   "metadata": {},
   "outputs": [],
   "source": [
    "a=n.ones((3,5),dtype=int)\n",
    "a[::2,1::2]=0\n",
    "b=[i for i in range(5)]\n",
    "a[1]=b\n",
    "a"
   ]
  },
  {
   "cell_type": "code",
   "execution_count": null,
   "id": "c0e1ea62",
   "metadata": {},
   "outputs": [],
   "source": [
    "a=n.arange(2,19,2)\n",
    "a.reshape(3,3)"
   ]
  },
  {
   "cell_type": "code",
   "execution_count": null,
   "id": "1beeeef3",
   "metadata": {},
   "outputs": [],
   "source": [
    "a=n.arange(2,19,2)\n",
    "b=a.reshape(3,3)\n",
    "b.T"
   ]
  },
  {
   "cell_type": "code",
   "execution_count": null,
   "id": "034ca7b3",
   "metadata": {},
   "outputs": [],
   "source": [
    "#copying an array\n",
    "a=n.array([1,2,3])\n",
    "b=a.copy()\n",
    "b[1]=10\n",
    "b"
   ]
  },
  {
   "cell_type": "code",
   "execution_count": null,
   "id": "ff6673ec",
   "metadata": {},
   "outputs": [],
   "source": [
    "#copying suitable elements using slicing\n",
    "a=n.array([[[1,2]],[[3,4]],[[5,6]]])\n",
    "b=n.copy(a[1,0,0])\n",
    "b"
   ]
  },
  {
   "cell_type": "code",
   "execution_count": null,
   "id": "d8cae21d",
   "metadata": {},
   "outputs": [],
   "source": [
    "#stacking\n",
    "a=n.array([1,2,3])\n",
    "b=n.array([3,4,5])\n",
    "n.stack((a,b))\n",
    "\n",
    "a=n.array([[1,2,3],[2,3,4]])\n",
    "b=n.array([[4,5,6],[6,7,8]])\n",
    "n.stack((a,b))\n",
    "\n",
    "a=n.arange(1,7)\n",
    "c=a.reshape(2,3)\n",
    "b=n.arange(8,14)\n",
    "e=b.reshape(2,3)\n",
    "n.stack((c,e))\n",
    "\n",
    "a=n.array([[1,2,3],[4,5,6]])\n",
    "b=n.array([[11,12,31],[41,51,61]])\n",
    "c=n.stack((a,b))\n",
    "#print(c)\n",
    "\n",
    "a=n.array([[1,2,3],[4,5,6]])\n",
    "b=n.array([[11,21,31],[41,51,16]])\n",
    "e=n.stack((a,b),axis=1)\n",
    "#print(e)\n",
    "\n",
    "a=n.array([[[1,2,3]],[[4,5,6]]])\n",
    "print(a)\n",
    "b=n.array([[[11,21,31]],[[41,51,16]]])\n",
    "print(b)\n",
    "print('axis=0:',n.stack((a,b))) #combine 2 arrays and to 4D\n",
    "print('axis=1:',n.stack((a,b),axis=1)) #combine first row of 2 array as 2D and whole into 4D\n",
    "print('axis=2:',n.stack((a,b),axis=2)) #combine first row of 2 array as 1D and whole into 4D\n",
    "print('axis=3:',n.stack((a,b),axis=3)) #combine 1st coloums as 1D and whole 4D"
   ]
  },
  {
   "cell_type": "code",
   "execution_count": null,
   "id": "4a18bc39",
   "metadata": {},
   "outputs": [],
   "source": [
    "a=n.array([[[1,2,3]]])\n",
    "b=n.array([[[11,21,31]]])\n",
    "print(n.stack((a,b),axis=3))"
   ]
  },
  {
   "cell_type": "code",
   "execution_count": null,
   "id": "c22ea385",
   "metadata": {
    "scrolled": true
   },
   "outputs": [],
   "source": [
    "#array joining\n",
    "#a) v stack\n",
    "#b) h stack\n",
    "#c) coloumn stack\n",
    "# in stacking convert array to its higher dimension\n",
    "\n",
    "#v stack\n",
    "# AXIS=O\n",
    "a=n.array([1,2,3])\n",
    "b=n.array([4,5,6])\n",
    "print(n.vstack((a,b)))"
   ]
  },
  {
   "cell_type": "code",
   "execution_count": null,
   "id": "3bfb3abe",
   "metadata": {},
   "outputs": [],
   "source": [
    "#2D\n",
    "a=n.array([[1,2,3],[4,5,6]])\n",
    "b=n.array([[4,5,6],[7,8,9]])\n",
    "print(n.vstack((a,b)))"
   ]
  },
  {
   "cell_type": "code",
   "execution_count": null,
   "id": "4926ede5",
   "metadata": {},
   "outputs": [],
   "source": [
    "#3D\n",
    "a=n.array([[[1,2,3]],[[4,5,6]]])\n",
    "b=n.array([[[8,5,6]],[[7,8,9]]])\n",
    "print(n.vstack((a,b)))"
   ]
  },
  {
   "cell_type": "code",
   "execution_count": null,
   "id": "bb1d2473",
   "metadata": {},
   "outputs": [],
   "source": [
    "#h stack\n",
    "#AXIS=1\n",
    "a=n.array([[[11,21,31]],[[2,3,4]]])\n",
    "b=n.array([[[41,51,61]],[[22,33,44]]])\n",
    "print(n.hstack((a,b)))"
   ]
  },
  {
   "cell_type": "code",
   "execution_count": null,
   "id": "372b712d",
   "metadata": {},
   "outputs": [],
   "source": [
    "#2D\n",
    "a=n.array([[11,21,31],[2,3,4]])\n",
    "b=n.array([[41,51,61],[22,33,44]])\n",
    "print(n.hstack((a,b)))"
   ]
  },
  {
   "cell_type": "code",
   "execution_count": null,
   "id": "dc947b51",
   "metadata": {},
   "outputs": [],
   "source": [
    "# column stack\n",
    "a=n.array([1,2,3])\n",
    "b=n.array([4,5,6])\n",
    "n.column_stack((a,b))"
   ]
  },
  {
   "cell_type": "code",
   "execution_count": null,
   "id": "2a0fda83",
   "metadata": {},
   "outputs": [],
   "source": [
    "#d stack\n",
    "a=n.array([1,2,3])\n",
    "b=n.array([4,5,6])\n",
    "n.dstack((a,b))"
   ]
  },
  {
   "cell_type": "code",
   "execution_count": null,
   "id": "8cf633cc",
   "metadata": {},
   "outputs": [],
   "source": [
    "#2D\n",
    "a=n.array([[11,21,31],[2,3,4]])\n",
    "b=n.array([[41,51,61],[22,33,44]])\n",
    "print(n.dstack((a,b)))"
   ]
  },
  {
   "cell_type": "code",
   "execution_count": null,
   "id": "b630d665",
   "metadata": {},
   "outputs": [],
   "source": [
    "#3D\n",
    "a=n.array([[[1,2,3],[4,5,6]],[[10,11,12],[13,14,15]]])\n",
    "b=n.array([[[8,5,6],[7,8,9]],[[101,111,112],[113,114,151]]])\n",
    "print(n.dstack((a,b)))"
   ]
  },
  {
   "cell_type": "code",
   "execution_count": null,
   "id": "e6087741",
   "metadata": {},
   "outputs": [],
   "source": [
    "#spliting\n",
    "a=n.arange(1,11)\n",
    "n.split(a,5)"
   ]
  },
  {
   "cell_type": "code",
   "execution_count": null,
   "id": "823e61cb",
   "metadata": {},
   "outputs": [],
   "source": [
    "a=n.arange(2,11)\n",
    "n.split(a,[4]) # split array into 1st array as given numbers"
   ]
  },
  {
   "cell_type": "code",
   "execution_count": null,
   "id": "263c7ab8",
   "metadata": {},
   "outputs": [],
   "source": [
    "a=n.arange(1,11)\n",
    "n.array_split(a,4) #split array into given numbers"
   ]
  },
  {
   "cell_type": "code",
   "execution_count": null,
   "id": "da786e6c",
   "metadata": {},
   "outputs": [],
   "source": [
    "a=n.arange(1,7)\n",
    "b=a.reshape(2,3)\n",
    "print(b)\n",
    "n.split(b,3,axis=1)"
   ]
  },
  {
   "cell_type": "code",
   "execution_count": null,
   "id": "31bd5aeb",
   "metadata": {},
   "outputs": [],
   "source": [
    "a=n.arange(1,7)\n",
    "b=a.reshape(2,3)\n",
    "print(b)\n",
    "n.split(b,[3],axis=1)"
   ]
  },
  {
   "cell_type": "code",
   "execution_count": null,
   "id": "871a0e30",
   "metadata": {},
   "outputs": [],
   "source": [
    "a=n.arange(1,7)\n",
    "b=a.reshape(2,3)\n",
    "print(b)\n",
    "n.array_split(b,3,axis=1)"
   ]
  },
  {
   "cell_type": "code",
   "execution_count": null,
   "id": "cd718ae8",
   "metadata": {},
   "outputs": [],
   "source": [
    "a=n.arange(1,7)\n",
    "b=a.reshape(2,3,1)\n",
    "n.array_split(b,3,axis=2)"
   ]
  },
  {
   "cell_type": "code",
   "execution_count": null,
   "id": "21266505",
   "metadata": {},
   "outputs": [],
   "source": [
    "a=n.array([[[1,2,3],[3,4,5]],[[1,2,3],[2,3,4]]])\n",
    "n.split(a,2,axis=1)"
   ]
  },
  {
   "cell_type": "code",
   "execution_count": null,
   "id": "edaf6078",
   "metadata": {},
   "outputs": [],
   "source": [
    "a=n.array([[[1,2,3],[4,5,6]],[[10,11,12],[13,14,15]]])\n",
    "n.split(a,[3],axis=2)"
   ]
  },
  {
   "cell_type": "code",
   "execution_count": null,
   "id": "420e0bb4",
   "metadata": {
    "scrolled": true
   },
   "outputs": [],
   "source": [
    "#write a numpy prgrm to create (5,3,4)D array and split it into\n",
    "#upto 2 based axis=1\n",
    "#2s based axis=0\n",
    "#4 equal parts based on axis-0\n",
    "a=n.arange(1,61)\n",
    "b=a.reshape(5,3,4)\n",
    "print(b)\n",
    "n.split(b,[2],axis=1)\n",
    "n.array_split(b,2,axis=0)"
   ]
  },
  {
   "cell_type": "code",
   "execution_count": null,
   "id": "3362ab00",
   "metadata": {},
   "outputs": [],
   "source": [
    "#h split \n",
    "#colomn wise spliting\n",
    "a=n.array([[1,2,3,4],[5,6,7,8]])\n",
    "n.hsplit(a,2)"
   ]
  },
  {
   "cell_type": "code",
   "execution_count": null,
   "id": "d8d274a0",
   "metadata": {},
   "outputs": [],
   "source": [
    "a=n.array([[[1,2,3,4],[5,6,7,8]],[[11,12,12,56],[89,13,14,15]]])\n",
    "n.hsplit(a,2)"
   ]
  },
  {
   "cell_type": "code",
   "execution_count": null,
   "id": "a0883275",
   "metadata": {
    "scrolled": true
   },
   "outputs": [],
   "source": [
    "a=n.arange(1,25).reshape(4,2,3)\n",
    "print(a)\n",
    "n.hsplit(a,2)\n",
    "# row wise in 3d"
   ]
  },
  {
   "cell_type": "code",
   "execution_count": null,
   "id": "12aedb65",
   "metadata": {},
   "outputs": [],
   "source": [
    "a=n.array([[1,2,3,4],[4,5,6,7],[8,9,10,11]])\n",
    "n.hsplit(a,2)"
   ]
  },
  {
   "cell_type": "code",
   "execution_count": null,
   "id": "8e2f56b2",
   "metadata": {},
   "outputs": [],
   "source": [
    "#v split\n",
    "a=n.arange(1,25).reshape(4,2,3)\n",
    "print(a)\n",
    "# b=n.hsplit(a,2)\n",
    "# print(b)\n",
    "a=n.arange(1,25).reshape(4,2,3)\n",
    "n.vsplit(a,2)"
   ]
  },
  {
   "cell_type": "code",
   "execution_count": null,
   "id": "5629a3f6",
   "metadata": {},
   "outputs": [],
   "source": [
    "a=n.array([[1,2,3,4],[4,5,6,7],[8,9,10,11]])\n",
    "n.vsplit(a,3)"
   ]
  },
  {
   "cell_type": "markdown",
   "id": "d27b4b46",
   "metadata": {},
   "source": [
    "## where"
   ]
  },
  {
   "cell_type": "code",
   "execution_count": null,
   "id": "b30bc61a",
   "metadata": {},
   "outputs": [],
   "source": [
    "#where\n",
    "a=n.arange(1,7)\n",
    "print(a)\n",
    "n.where(a==3)\n",
    "n.where(a>3)\n",
    "n.where(a%2==0)"
   ]
  },
  {
   "cell_type": "code",
   "execution_count": null,
   "id": "25273728",
   "metadata": {},
   "outputs": [],
   "source": [
    "a=n.arange(1,13).reshape(2,3,2)\n",
    "print(a)\n",
    "n.where(a==3)"
   ]
  },
  {
   "cell_type": "code",
   "execution_count": null,
   "id": "6b45d1c5",
   "metadata": {},
   "outputs": [],
   "source": [
    "#print index of odd numbers\n",
    "a=n.arange(1,21)\n",
    "print(a)\n",
    "n.where(a%2!=0)"
   ]
  },
  {
   "cell_type": "markdown",
   "id": "9856a330",
   "metadata": {},
   "source": [
    "## search sorted"
   ]
  },
  {
   "cell_type": "code",
   "execution_count": null,
   "id": "8e2d6d24",
   "metadata": {},
   "outputs": [],
   "source": [
    "a=n.arange(1,21)\n",
    "n.searchsorted(a,1.5)"
   ]
  },
  {
   "cell_type": "code",
   "execution_count": null,
   "id": "f598b99a",
   "metadata": {},
   "outputs": [],
   "source": [
    "a=n.array([6,2,1,5,6])\n",
    "#a=n.sort(a)\n",
    "n.searchsorted(a,1.5)"
   ]
  },
  {
   "cell_type": "code",
   "execution_count": null,
   "id": "80b2b62c",
   "metadata": {},
   "outputs": [],
   "source": [
    "a=n.array([3,1,5,4,2,6])\n",
    "n.searchsorted(a,4.5)"
   ]
  },
  {
   "cell_type": "code",
   "execution_count": null,
   "id": "644466d0",
   "metadata": {},
   "outputs": [],
   "source": [
    "a=n.arange(1,21)\n",
    "print(a)\n",
    "n.searchsorted(a,[1.5,2.5,5.5])"
   ]
  },
  {
   "cell_type": "code",
   "execution_count": null,
   "id": "5c0a956e",
   "metadata": {},
   "outputs": [],
   "source": [
    "a=n.array([1,2,3,4,4,5,6,7])\n",
    "n.searchsorted(a,4)"
   ]
  },
  {
   "cell_type": "code",
   "execution_count": null,
   "id": "56d685f4",
   "metadata": {},
   "outputs": [],
   "source": [
    "a=n.array([1,2,3,4,4,5,6,7])\n",
    "n.searchsorted(a,4,side='right')"
   ]
  },
  {
   "cell_type": "code",
   "execution_count": null,
   "id": "872a28ec",
   "metadata": {},
   "outputs": [],
   "source": [
    "a=n.array([1,2,3,4,4,4,5,6,7])\n",
    "n.searchsorted(a,4)"
   ]
  },
  {
   "cell_type": "code",
   "execution_count": null,
   "id": "380be5a9",
   "metadata": {},
   "outputs": [],
   "source": [
    "a=n.array([1,2,3,4,4,4,5,6,7])\n",
    "n.searchsorted(a,4,side='right')"
   ]
  },
  {
   "cell_type": "markdown",
   "id": "953ca73c",
   "metadata": {},
   "source": [
    "## ARRAY FILTERING"
   ]
  },
  {
   "cell_type": "code",
   "execution_count": null,
   "id": "82344ce2",
   "metadata": {},
   "outputs": [],
   "source": [
    "a=n.array([1,2,3])\n",
    "b=[True,False,True]\n",
    "a[b]"
   ]
  },
  {
   "cell_type": "code",
   "execution_count": null,
   "id": "9f4d6925",
   "metadata": {},
   "outputs": [],
   "source": [
    "a=n.arange(1,11)\n",
    "b=[]\n",
    "for i in a:\n",
    "    if i%2==0:\n",
    "       b.append(True)\n",
    "    else:\n",
    "        b.append(False)\n",
    "a[b]"
   ]
  },
  {
   "cell_type": "code",
   "execution_count": null,
   "id": "059bff87",
   "metadata": {},
   "outputs": [],
   "source": [
    "a=n.arange(1,21).reshape(2,5,2)\n",
    "a[a%2==0]"
   ]
  },
  {
   "cell_type": "code",
   "execution_count": null,
   "id": "254f0231",
   "metadata": {},
   "outputs": [],
   "source": [
    "a=n.arange(1,21)\n",
    "b=[]\n",
    "for i in a:\n",
    "    if i>=10:\n",
    "        b.append(True)\n",
    "    else:\n",
    "        b.append(False)\n",
    "a[b]"
   ]
  },
  {
   "cell_type": "code",
   "execution_count": null,
   "id": "c036af1d",
   "metadata": {},
   "outputs": [],
   "source": [
    "# in 2D\n",
    "a=n.arange(1,11).reshape(2,5)\n",
    "b=[]\n",
    "for i in n.nditer(a):\n",
    "    if 5<=i<=8:\n",
    "        b.append(True)\n",
    "    else:\n",
    "        b.append(False)\n",
    "a[n.array(b).reshape(2,5)]"
   ]
  },
  {
   "cell_type": "code",
   "execution_count": null,
   "id": "072ba558",
   "metadata": {},
   "outputs": [],
   "source": [
    "a=n.arange(1,21).reshape(2,5,2)\n",
    "b=[]\n",
    "for i in n.nditer(a):\n",
    "    if i%2==0:\n",
    "       b.append(True)\n",
    "    else:\n",
    "        b.append(False)\n",
    "a[n.array(b).reshape(2,5,2)]"
   ]
  },
  {
   "cell_type": "code",
   "execution_count": null,
   "id": "df969f00",
   "metadata": {
    "scrolled": true
   },
   "outputs": [],
   "source": [
    "a=n.arange(1,21).reshape(2,5,2)\n",
    "print(a)\n",
    "b=[]\n",
    "for i in a:\n",
    "    for j in i:\n",
    "        for k in j:\n",
    "            if k%2==0: \n",
    "                b.append(True)\n",
    "            else:\n",
    "                b.append(False)\n",
    "print(n.array(b).reshape(2,5,2))\n",
    "a[n.array(b).reshape(2,5,2)]"
   ]
  },
  {
   "cell_type": "code",
   "execution_count": null,
   "id": "031faf69",
   "metadata": {},
   "outputs": [],
   "source": [
    "# create a 2D numpy array,filter out and return the rows where the 2nd coloumn value is greater than 10\n",
    "a=n.arange(1,21).reshape(4,5)\n",
    "print(a)\n",
    "b=[]\n",
    "for i in a:\n",
    "    if i[1]>10:\n",
    "        b.append(i)\n",
    "print(b)                  "
   ]
  },
  {
   "cell_type": "code",
   "execution_count": null,
   "id": "9896e5ff",
   "metadata": {},
   "outputs": [],
   "source": [
    "from numpy import random\n",
    "a=n.random.randint(100,size=(4,4))\n",
    "print(a)\n",
    "b=[]\n",
    "for i in a:\n",
    "    if i[1]>50:\n",
    "        b.append(i)\n",
    "print(b)"
   ]
  },
  {
   "cell_type": "code",
   "execution_count": 2,
   "id": "23640ba7",
   "metadata": {},
   "outputs": [
    {
     "name": "stdout",
     "output_type": "stream",
     "text": [
      "[[11 86 53 76]\n",
      " [65 71 94  4]\n",
      " [66 98 67 67]\n",
      " [99 20 89 60]]\n",
      "[array([11, 86, 53, 76]), array([66, 98, 67, 67]), array([99, 20, 89, 60])]\n"
     ]
    }
   ],
   "source": [
    "# create a 2D numpy array,filter out and return the rows where the 2nd and 4th coloumn value is greater than 10\n",
    "from numpy import random\n",
    "import numpy as n\n",
    "a=n.random.randint(100,size=(4,4))\n",
    "print(a)\n",
    "b=[]\n",
    "for i in a:\n",
    "    if i[1]>10 and i[3]>10:\n",
    "        b.append(i)\n",
    "print(b)"
   ]
  },
  {
   "cell_type": "code",
   "execution_count": null,
   "id": "ffc575f0",
   "metadata": {
    "scrolled": false
   },
   "outputs": [],
   "source": [
    "# create a 2D numpy array,filter out and return the coloumn where the 2nd and 4th row value is greater than 10\n",
    "from numpy import random\n",
    "a=n.random.randint(100,size=(4,4))\n",
    "print(a)\n",
    "count=0\n",
    "b=[]\n",
    "for i in a[1]:\n",
    "    if i>=50:\n",
    "        c=n.hsplit(a,4)\n",
    "        b.append(c[count])\n",
    "    count+=1\n",
    "print(b)"
   ]
  },
  {
   "cell_type": "code",
   "execution_count": null,
   "id": "fed103f8",
   "metadata": {
    "scrolled": true
   },
   "outputs": [],
   "source": [
    "from numpy import random\n",
    "a=n.random.randint(100,size=(4,4))\n",
    "print(a)\n",
    "c=n.hsplit(a,4)\n",
    "b=[]\n",
    "for i in c:\n",
    "    if i[1]>=50:\n",
    "        b.append(i)\n",
    "print(b)"
   ]
  },
  {
   "cell_type": "code",
   "execution_count": null,
   "id": "35785206",
   "metadata": {},
   "outputs": [],
   "source": [
    "from numpy import random\n",
    "a=n.random.randint(50,size=(4,4))\n",
    "print(a)\n",
    "b=a.T\n",
    "c=n.any(a<10,axis=0)\n",
    "b[c]"
   ]
  },
  {
   "cell_type": "code",
   "execution_count": null,
   "id": "4829add9",
   "metadata": {},
   "outputs": [],
   "source": [
    "a=n.array([[1,2,3],[3,4,5]])\n",
    "b=n.array([[5,6],[1,2],[4,5]])\n",
    "print(n.matmul(a,b))\n",
    "#number of coulm in 1st array and number of row in 2nd array should be equal"
   ]
  },
  {
   "cell_type": "code",
   "execution_count": null,
   "id": "2c02a5a1",
   "metadata": {},
   "outputs": [],
   "source": [
    "a=n.arange(1,21).reshape(2,5,2)\n",
    "print(a)\n",
    "b=n.arange(1,21).reshape(2,2,5)\n",
    "print(b)\n",
    "print(n.matmul(a,b))"
   ]
  },
  {
   "cell_type": "markdown",
   "id": "c3cc770a",
   "metadata": {},
   "source": [
    "## view"
   ]
  },
  {
   "cell_type": "code",
   "execution_count": null,
   "id": "5d92227c",
   "metadata": {},
   "outputs": [],
   "source": [
    "a=n.arange(1,11).reshape(2,5)\n",
    "b=a.view()\n",
    "#any change in view effect original array"
   ]
  },
  {
   "cell_type": "code",
   "execution_count": null,
   "id": "2c446d2d",
   "metadata": {},
   "outputs": [],
   "source": [
    "a=n.arange(1,11).reshape(2,5)\n",
    "b=a.copy()\n",
    "b[1]=10\n",
    "c=a\n",
    "c[1]=13\n",
    "e=a.view()\n",
    "e[1]=55\n",
    "print(b)\n",
    "print(e)\n",
    "print(c)"
   ]
  },
  {
   "cell_type": "code",
   "execution_count": null,
   "id": "5aa06693",
   "metadata": {
    "scrolled": true
   },
   "outputs": [],
   "source": [
    "a=n.arange(1,11)\n",
    "a.astype='bool'\n",
    "print(a)"
   ]
  },
  {
   "cell_type": "code",
   "execution_count": null,
   "id": "bf15b88c",
   "metadata": {
    "scrolled": false
   },
   "outputs": [],
   "source": [
    "#Write a Python program to iterate over a 3D NumPy array using ndenumerate and print each index and its corresponding value \n",
    "a=n.arange(1,11).reshape(2,5,1)\n",
    "for i in n.ndenumerate(a):\n",
    "    print(i)\n",
    "#Write a Python function that counts the number of non-zero elements in a NumPy array using ndenumerate.\n",
    "a=n.arange(0,10).reshape(2,5,1)\n",
    "count=0\n",
    "for i in n.nditer(a):\n",
    "    if i!=0:\n",
    "        count+=1\n",
    "print(count)\n",
    "#write a program to split [ [ [1,2] ],[ [3,4] ] ] array using hsplit ,vsplit \n",
    "a=n.array([[[1,2]],[[3,4]]])\n",
    "n.hsplit(a,2)"
   ]
  },
  {
   "cell_type": "code",
   "execution_count": null,
   "id": "45f3b4c4",
   "metadata": {},
   "outputs": [],
   "source": [
    "a=n.arange(1,11).reshape(2,5)\n",
    "n.full_like(a,5)"
   ]
  },
  {
   "cell_type": "code",
   "execution_count": null,
   "id": "24f6b68c",
   "metadata": {},
   "outputs": [],
   "source": [
    "a=n.identity(6,dtype=\"int\").reshape(1,6,6)\n",
    "print(a)"
   ]
  },
  {
   "cell_type": "code",
   "execution_count": null,
   "id": "c7ec02e6",
   "metadata": {},
   "outputs": [],
   "source": [
    "#create a identity matrix and chnage the diagnel elemenyts\n",
    "a=n.identity(4,dtype=\"int\")\n",
    "for i in range (4):\n",
    "    a[i,i]=i+1\n",
    "a\n",
    "\n",
    "a=n.identity(4,dtype=\"int\")\n",
    "b=0\n",
    "for i in a:\n",
    "    a[b,b]=b+1\n",
    "    b+=1    \n",
    "a\n",
    "k=1\n",
    "for i,j in n.ndenumerate(a):\n",
    "   if(i[0]==i[1]):\n",
    "        a[i]=k\n",
    "        k+=1\n",
    "print(a)\n"
   ]
  },
  {
   "cell_type": "code",
   "execution_count": null,
   "id": "a5d1c057",
   "metadata": {},
   "outputs": [],
   "source": [
    "#create a identity matrix and chnage the diagnel elements into even numbers\n",
    "k=2\n",
    "for i,j in n.ndenumerate(a):\n",
    "   if(i[0]==i[1]):\n",
    "        a[i]=k\n",
    "        k+=2\n",
    "print(a)"
   ]
  },
  {
   "cell_type": "code",
   "execution_count": null,
   "id": "cbe29a35",
   "metadata": {},
   "outputs": [],
   "source": [
    "a=n.arange(1,17).reshape(4,4)\n",
    "for i,j in n.ndenumerate(a):\n",
    "    if(i[0]==i[1]):\n",
    "        a[i]=1\n",
    "    else:\n",
    "        a[i]=0\n",
    "a"
   ]
  },
  {
   "cell_type": "code",
   "execution_count": null,
   "id": "2f17cae3",
   "metadata": {},
   "outputs": [],
   "source": [
    "#ading daignol element of 2 matrix\n",
    "a=n.identity(4,dtype=\"int\")\n",
    "k=2\n",
    "for i,j in n.ndenumerate(a):\n",
    "   if(i[0]==i[1]):\n",
    "        a[i]=k\n",
    "        k+=2\n",
    "b=n.identity(4,dtype=\"int\")\n",
    "x=1\n",
    "for i,j in n.ndenumerate(b):\n",
    "   if(i[0]==i[1]):\n",
    "        b[i]=x\n",
    "        x+=2\n",
    "print(a+b)  "
   ]
  },
  {
   "cell_type": "markdown",
   "id": "d79899e3",
   "metadata": {},
   "source": [
    "## ARRAY REPETITION"
   ]
  },
  {
   "cell_type": "code",
   "execution_count": null,
   "id": "6377dbad",
   "metadata": {},
   "outputs": [],
   "source": [
    "a=n.array([1,2,3])\n",
    "n.repeat(a,2,axis=0)"
   ]
  },
  {
   "cell_type": "code",
   "execution_count": null,
   "id": "06bebe81",
   "metadata": {},
   "outputs": [],
   "source": [
    "a=n.array([[1,2,3]])\n",
    "n.repeat(a,2,axis=0)"
   ]
  },
  {
   "cell_type": "code",
   "execution_count": null,
   "id": "096f6b22",
   "metadata": {},
   "outputs": [],
   "source": [
    "a=n.arange(1,11).reshape(2,5)\n",
    "print(a)\n",
    "n.repeat(a,2,axis=0)"
   ]
  },
  {
   "cell_type": "code",
   "execution_count": null,
   "id": "3ca2a8f7",
   "metadata": {},
   "outputs": [],
   "source": [
    "a=n.arange(1,11).reshape(2,5)\n",
    "print(a)\n",
    "n.repeat(a,2,axis=1)"
   ]
  },
  {
   "cell_type": "code",
   "execution_count": null,
   "id": "55f85199",
   "metadata": {},
   "outputs": [],
   "source": [
    "a=n.arange(1,11).reshape(2,5,1)\n",
    "print(a)\n",
    "n.repeat(a,2,axis=2)"
   ]
  },
  {
   "cell_type": "markdown",
   "id": "911af6c0",
   "metadata": {},
   "source": [
    "## numpy u function"
   ]
  },
  {
   "cell_type": "code",
   "execution_count": null,
   "id": "23bad892",
   "metadata": {},
   "outputs": [],
   "source": [
    "a=n.arange(1,11).reshape(2,5)\n",
    "print(a)\n",
    "print(n.cumproduct(a))\n",
    "print(n.cumproduct(a,axis=0))\n",
    "print(n.cumproduct(a,axis=1))"
   ]
  },
  {
   "cell_type": "code",
   "execution_count": null,
   "id": "33bcb2c9",
   "metadata": {},
   "outputs": [],
   "source": [
    "a=n.arange(1,9).reshape(2,2,2)\n",
    "print(a)\n",
    "print(n.cumproduct(a,axis=0))\n",
    "print(n.cumproduct(a,axis=1))\n",
    "print(n.cumproduct(a,axis=2))"
   ]
  },
  {
   "cell_type": "markdown",
   "id": "8ba074ed",
   "metadata": {},
   "source": [
    "## DIFFRENCE"
   ]
  },
  {
   "cell_type": "code",
   "execution_count": null,
   "id": "5af2281a",
   "metadata": {},
   "outputs": [],
   "source": [
    "a=n.array([2,3,4])\n",
    "n.diff(a)"
   ]
  },
  {
   "cell_type": "code",
   "execution_count": null,
   "id": "8c93aa67",
   "metadata": {},
   "outputs": [],
   "source": [
    "a=n.array([2,3,4,11,6,9,8])\n",
    "print(n.diff(a))\n",
    "print(n.diff(a,n=2))"
   ]
  },
  {
   "cell_type": "code",
   "execution_count": null,
   "id": "43e834af",
   "metadata": {},
   "outputs": [],
   "source": [
    "a=n.arange(1,11).reshape(2,5)\n",
    "print(a)\n",
    "n.diff(a,axis=0)"
   ]
  },
  {
   "cell_type": "code",
   "execution_count": null,
   "id": "da541dbd",
   "metadata": {},
   "outputs": [],
   "source": [
    "a=n.array([2,3,4,11,6,9,8])\n",
    "n.log(a)"
   ]
  },
  {
   "cell_type": "code",
   "execution_count": null,
   "id": "d2dd20cd",
   "metadata": {},
   "outputs": [],
   "source": [
    "import numpy\n",
    "from numpy import matlib as mt\n",
    "a=n.array([2,3,4,11,6,9,8])\n",
    "mt.log(a)"
   ]
  },
  {
   "cell_type": "markdown",
   "id": "da8d1746",
   "metadata": {},
   "source": [
    "## numpy Lcm"
   ]
  },
  {
   "cell_type": "code",
   "execution_count": null,
   "id": "7e23dff5",
   "metadata": {},
   "outputs": [],
   "source": [
    "import math\n",
    "math.lcm(10,20,30)\n",
    "math.lcm(11,12,13)"
   ]
  },
  {
   "cell_type": "code",
   "execution_count": null,
   "id": "fa61ae30",
   "metadata": {},
   "outputs": [],
   "source": [
    "a=n.array([2,3,4])\n",
    "n.lcm.reduce(a)"
   ]
  },
  {
   "cell_type": "code",
   "execution_count": null,
   "id": "07ca261e",
   "metadata": {},
   "outputs": [],
   "source": [
    "a=n.array([[1,4,6],[4,8,10]])\n",
    "n.lcm.reduce(a)\n",
    "n.gcd.reduce(a)"
   ]
  },
  {
   "cell_type": "markdown",
   "id": "2948c1a0",
   "metadata": {},
   "source": [
    "# creating our own u-function"
   ]
  },
  {
   "cell_type": "code",
   "execution_count": null,
   "id": "7a1c3a7f",
   "metadata": {},
   "outputs": [],
   "source": [
    "import numpy as np\n",
    "def add(x,y):\n",
    "    return x+y\n",
    "a=np.frompyfunc(add,2,1)\n",
    "# add(np.array([1,2,3]),np.array([2,3,4]))\n",
    "a([1,2,3],[2,3,4])"
   ]
  },
  {
   "cell_type": "code",
   "execution_count": null,
   "id": "22de9cc7",
   "metadata": {},
   "outputs": [],
   "source": [
    "def moduls(a,b):\n",
    "    return b%a\n",
    "a=np.frompyfunc(moduls,2,1)\n",
    "a([1,2,3],[4,5,6])"
   ]
  },
  {
   "cell_type": "code",
   "execution_count": null,
   "id": "4ec610dd",
   "metadata": {},
   "outputs": [],
   "source": [
    "# create a ufunc powr() to calculate power of elements of 2 array\n",
    "# create au unfunc that check if one number is multiple of anathor\n",
    "# create a ufunctn to find gcd&lcm\n",
    "#create a ufuncnt to calcult temprature from celcius to farenheat\n",
    "import numpy as np\n",
    "def power(a,b):\n",
    "    return a**b,b**a\n",
    "a=np.frompyfunc(power,2,2)\n",
    "a([2,3,4],[4,5,6])\n",
    "\n",
    "a=np.array([2,3,4])\n",
    "b=np.array([4,5,6])\n",
    "def x(a,b):\n",
    "    return  b%a==0\n",
    "c=np.frompyfunc(x,2,1)\n",
    "c(a,b)\n",
    "\n",
    "a=np.array([2,3,4])\n",
    "b=np.array([6,9,9])\n",
    "def x(a,b):\n",
    "    gcd=np.gcd(a,b)\n",
    "    lcm=np.lcm(a,b)\n",
    "    return gcd,lcm\n",
    "c=np.frompyfunc(x,2,2)\n",
    "c(a,b)\n",
    "\n",
    "a=np.array([33,55,77])\n",
    "def x(a):\n",
    "    return (a*9/5)+32\n",
    "c=np.frompyfunc(x,1,1)\n",
    "c(a)"
   ]
  },
  {
   "cell_type": "code",
   "execution_count": null,
   "id": "6fe60cfa",
   "metadata": {},
   "outputs": [],
   "source": [
    "#create a ufunct to calculate mean,median,mod\n",
    "import numpy as n\n",
    "a=n.array([33,55,77])\n",
    "s=n.sum(a)\n",
    "def mean(s):\n",
    "    return s/3\n",
    "c=n.frompyfunc(mean,1,1)\n",
    "c(s)"
   ]
  },
  {
   "cell_type": "code",
   "execution_count": null,
   "id": "b595d24f",
   "metadata": {},
   "outputs": [],
   "source": [
    "import numpy as n\n",
    "def mean(x):\n",
    "    return n.mean(a),n.median(a)\n",
    "x=n.frompyfunc(mean, 1, 2)\n",
    "a=n.array([33,55,77,55,56,78,78])\n",
    "x(a[0])"
   ]
  },
  {
   "cell_type": "markdown",
   "id": "6469d5b0",
   "metadata": {},
   "source": [
    "## TRIGNOMETRY"
   ]
  },
  {
   "cell_type": "code",
   "execution_count": null,
   "id": "665ec1ba",
   "metadata": {},
   "outputs": [],
   "source": [
    "#find the sin value of 60\n",
    "n.sin(60*(n.pi/180))\n",
    "n.sin(n.deg2rad(60))\n"
   ]
  },
  {
   "cell_type": "markdown",
   "id": "df1279cf",
   "metadata": {},
   "source": [
    "## numpy set operation"
   ]
  },
  {
   "cell_type": "code",
   "execution_count": 7,
   "id": "280aeff8",
   "metadata": {},
   "outputs": [
    {
     "data": {
      "text/plain": [
       "array([4, 5])"
      ]
     },
     "execution_count": 7,
     "metadata": {},
     "output_type": "execute_result"
    }
   ],
   "source": [
    "#create a set array in 1D \n",
    "a=n.array([2,3,4,5,3,6,7,4])\n",
    "n.unique(a)\n",
    "#finding union\n",
    "a=n.array([2,3,4,5,6,7])\n",
    "b=n.array([4,5,6,7,8,9])\n",
    "n.union1d(a,b)\n",
    "#finding intersection:- commen elements between 2 arrays\n",
    "n.intersect1d(a,b,assume_unique=True)\n",
    "a=n.array([1,1,2,4,5])\n",
    "b=n.array([2,6,6])\n",
    "n.intersect1d(a,b)\n",
    "n.intersect1d(a,b,assume_unique=True)# only use when arrays are unique\n",
    "# finding diffrence\n",
    "a=n.array([2,3,4,5,6,7])\n",
    "b=n.array([4,5,6,7,8,9])\n",
    "n.setdiff1d(a,b)\n",
    "a=n.array([1,1,2,4,5])\n",
    "b=n.array([2,6,6])\n",
    "n.setdiff1d(a,b,assume_unique=True)# only use when arrays are unique\n",
    "#symmetric diffrence\n",
    "a=n.array([2,3,4,5,6,7])\n",
    "b=n.array([4,5,6,7,8,9])\n",
    "n.setxor1d(a,b)\n",
    "a=n.array([1,1,2,4,5])\n",
    "b=n.array([2,6,6])\n",
    "n.setxor1d(a,b,assume_unique=True)"
   ]
  },
  {
   "cell_type": "code",
   "execution_count": null,
   "id": "f6a33c62",
   "metadata": {},
   "outputs": [],
   "source": [
    "import numpy as n\n",
    "#symmetric diffrence between 3 arrays\n",
    "a=n.array([2,3,4,5,6,7])\n",
    "b=n.array([4,5,6,7,8,9])\n",
    "c=n.array([1,0,2,4,5,8])\n",
    "print(n.setxor1d(n.setxor1d((a,b),c))\n",
    "# find commen elements btween 3 arrays\n",
    "k=n.array([2,3,4,5,6,7])\n",
    "z=n.array([4,5,6,7,8,9])\n",
    "y=n.array([1,0,2,4,5,8])\n",
    "n.intersect1d(n.intersect1d(k,z),y)"
   ]
  },
  {
   "cell_type": "code",
   "execution_count": 9,
   "id": "a0324d23",
   "metadata": {},
   "outputs": [
    {
     "data": {
      "text/plain": [
       "array([], dtype=float64)"
      ]
     },
     "execution_count": 9,
     "metadata": {},
     "output_type": "execute_result"
    }
   ],
   "source": [
    "# symmentric diffrence btwn empty arays\n",
    "a=n.array([])\n",
    "b=n.array([])\n",
    "n.setxor1d(a,b)"
   ]
  },
  {
   "cell_type": "markdown",
   "id": "2d265e85",
   "metadata": {},
   "source": [
    "## random numbers in numpy"
   ]
  },
  {
   "cell_type": "code",
   "execution_count": 48,
   "id": "7440fe48",
   "metadata": {},
   "outputs": [
    {
     "data": {
      "text/plain": [
       "array([[ 17,  15,  32,  19,  64],\n",
       "       [ 38,  92, 100,  84,  31]])"
      ]
     },
     "execution_count": 48,
     "metadata": {},
     "output_type": "execute_result"
    }
   ],
   "source": [
    "# program to write random numbers btween 10 to 100\n",
    "# from numpy import random\n",
    "n.random.randint(10,101,size=(4,5))\n",
    "#program to create a random float number\n",
    "import random\n",
    "random.uniform(1,10) #to return float value\n",
    "n.random.uniform(1,10,size=(4,5))\n",
    "#print flot number between 0&1\n",
    "random.random()# print float between 0&1\n",
    "# write a program to create a set of random numbers of 3/2 matrics\n",
    "n.random.randint(10,101,size=(2,5))"
   ]
  },
  {
   "cell_type": "code",
   "execution_count": 84,
   "id": "ed9338b8",
   "metadata": {},
   "outputs": [
    {
     "data": {
      "text/plain": [
       "array([[0.65298121, 0.15242385],\n",
       "       [0.1594851 , 0.2223848 ],\n",
       "       [0.06089999, 0.04187609]])"
      ]
     },
     "execution_count": 84,
     "metadata": {},
     "output_type": "execute_result"
    }
   ],
   "source": [
    "#create a set of random float numbers  of 3/2\n",
    "n.random.uniform(1,10,size=(3,2))\n",
    "#create a 3/2 matrix of float nmber between 0&1\n",
    "n.random.uniform(0,1,size=(3,2))\n",
    "n.random.rand(3,2)"
   ]
  },
  {
   "cell_type": "markdown",
   "id": "f3123927",
   "metadata": {},
   "source": [
    "# random data distribution"
   ]
  },
  {
   "cell_type": "code",
   "execution_count": 2,
   "id": "ae17e336",
   "metadata": {},
   "outputs": [
    {
     "data": {
      "text/plain": [
       "array([[5, 7, 5, 5, 9, 9, 3, 5, 8, 5, 3, 5, 5, 5, 3, 3, 5, 5, 7, 8, 5, 5,\n",
       "        3, 5, 3, 8, 5, 5, 5, 3, 7, 5, 5, 8, 8, 8, 3, 3, 8, 9, 8, 9, 9, 5,\n",
       "        8, 5, 5, 8, 7, 7],\n",
       "       [5, 9, 5, 5, 5, 8, 5, 9, 7, 5, 3, 9, 5, 8, 8, 8, 5, 9, 5, 3, 3, 5,\n",
       "        5, 5, 8, 8, 3, 5, 3, 3, 9, 3, 3, 5, 3, 8, 5, 5, 5, 3, 5, 5, 5, 5,\n",
       "        3, 8, 9, 5, 3, 7]])"
      ]
     },
     "execution_count": 2,
     "metadata": {},
     "output_type": "execute_result"
    }
   ],
   "source": [
    "#program to distribute numbers of 3,5,7,9 based on the corresponding probability .1,.3,.6,.0\n",
    "n.random.choice([3,5,7,9],p=[.1,.3,.6,.0],size=(10,)) #sum of p should be 1\n",
    "#probability of value of 3 is set to be .1 and correspondingly to others\n",
    "\n",
    "# to create 2d array with 3rows and 5 coloums in which values of 3,5,7,8,9 should be as per p=[.2,.4,.1,.2,.1]\n",
    "n.random.choice([3,5,7,8,9],p=[.2,.4,.1,.2,.1],size=(2,50))"
   ]
  },
  {
   "cell_type": "markdown",
   "id": "b49fc5bb",
   "metadata": {},
   "source": [
    "## PERMUTATION"
   ]
  },
  {
   "cell_type": "code",
   "execution_count": 90,
   "id": "d0e8a8ba",
   "metadata": {},
   "outputs": [
    {
     "name": "stdout",
     "output_type": "stream",
     "text": [
      "['you' 'when' 'he' 'what' 'where']\n"
     ]
    },
    {
     "data": {
      "text/plain": [
       "array(['where', 'when', 'what', 'he', 'you'], dtype='<U5')"
      ]
     },
     "execution_count": 90,
     "metadata": {},
     "output_type": "execute_result"
    }
   ],
   "source": [
    "#SHUFLING\n",
    "a=n.array([1,2,3,4])\n",
    "n.random.shuffle(a)\n",
    "a\n",
    "#permutation\n",
    "a=n.array([[1,2,3,4],[3,4,5,6]])\n",
    "n.random.permutation(a)\n",
    "\n",
    "#to shuffle a 2d array\n",
    "a=n.array([[1,2,3,4],[3,4,5,6],[3,5,6,6]])\n",
    "n.random.permutation(a.T).T\n",
    "n.random.shuffle(a.T)\n",
    "a\n",
    "#IN 2D USING SHUFFLE METHOD WE CAN ARANGE ELEMENTS OF EACH ROWS IN DIFFRENT WAYS \n",
    "\n",
    "# TO SHUFFLE AN ARRAY OF STRINGS\n",
    "a=n.array(['you','he','when','what','where'])\n",
    "n.random.shuffle(a)\n",
    "print(n.random.permutation(a))\n",
    "a"
   ]
  },
  {
   "cell_type": "raw",
   "id": "208749c7",
   "metadata": {},
   "source": [
    "write a program to shuffle words in a string string=my name is anfas"
   ]
  },
  {
   "cell_type": "code",
   "execution_count": 144,
   "id": "07eac30e",
   "metadata": {},
   "outputs": [
    {
     "name": "stdout",
     "output_type": "stream",
     "text": [
      "anfas is my name\n",
      "['anfas' 'is' 'my' 'name']\n"
     ]
    }
   ],
   "source": [
    "a='my name is anfas'\n",
    "b=a.split(' ')\n",
    "x=n.random.permutation(b)\n",
    "z=' '.join(x)\n",
    "print(z)\n",
    "print(x)"
   ]
  },
  {
   "cell_type": "raw",
   "id": "11c9da41",
   "metadata": {},
   "source": [
    "write a program to shufle charecters in a string =learn logic"
   ]
  },
  {
   "cell_type": "code",
   "execution_count": 162,
   "id": "4e8b6cc2",
   "metadata": {},
   "outputs": [
    {
     "name": "stdout",
     "output_type": "stream",
     "text": [
      "acnligol re\n"
     ]
    }
   ],
   "source": [
    "a='learn logic'\n",
    "b=[]\n",
    "for i in a:\n",
    "    b.append(i)\n",
    "n.random.shuffle(b)\n",
    "print(''.join(b))\n",
    "    "
   ]
  },
  {
   "cell_type": "code",
   "execution_count": 164,
   "id": "22cadd28",
   "metadata": {},
   "outputs": [
    {
     "name": "stdout",
     "output_type": "stream",
     "text": [
      "['l', 'e', 'a', 'r', 'n', ' ', 'l', 'o', 'g', 'i', 'c']\n",
      "gcr ainleol\n"
     ]
    }
   ],
   "source": [
    "a='learn logic'\n",
    "b=[ i for i in a]\n",
    "print(b)\n",
    "n.random.shuffle(b)\n",
    "print(''.join(b))"
   ]
  },
  {
   "cell_type": "code",
   "execution_count": 179,
   "id": "81320079",
   "metadata": {},
   "outputs": [
    {
     "name": "stdout",
     "output_type": "stream",
     "text": [
      "[[ 6  8  8  1  2]\n",
      " [ 7 10  4  9  9]]\n",
      "[[5.1792665  6.03449484 9.28575816 9.97267893 8.90745086]\n",
      " [8.09415766 1.31441464 2.54214404 2.23730518 5.02784616]]\n",
      "[[0.28620889 0.76957904 0.42566314 0.34474307 0.58216307]\n",
      " [0.34754372 0.15619692 0.18873035 0.3639079  0.59184027]]\n",
      "[[54 63  1  6 42]\n",
      " [ 5 42 83 67  4]]\n"
     ]
    }
   ],
   "source": [
    "# write a program to generate a random numbers in an array\n",
    "print(n.random.randint(1,11,size=(2,5)))\n",
    "print(n.random.uniform(1,11,size=(2,5)))\n",
    "print(n.random.rand(2,5))\n",
    "print(n.random.choice([i for i in range(1,100)],size=(2,5)))"
   ]
  },
  {
   "cell_type": "markdown",
   "id": "e918bab3",
   "metadata": {},
   "source": []
  },
  {
   "cell_type": "code",
   "execution_count": 16,
   "id": "fb433ce1",
   "metadata": {},
   "outputs": [
    {
     "name": "stdout",
     "output_type": "stream",
     "text": [
      "[1 2 3 4 5]\n",
      "[ 6  7  8  9 10]\n"
     ]
    },
    {
     "data": {
      "text/plain": [
       "(array([ 7,  9, 11, 13, 15]),\n",
       " array([-5, -5, -5, -5, -5]),\n",
       " array([ 6, 14, 24, 36, 50]),\n",
       " array([0.16666667, 0.28571429, 0.375     , 0.44444444, 0.5       ]),\n",
       " array([      1,     128,    6561,  262144, 9765625], dtype=int32),\n",
       " array([0, 1, 2, 1, 0], dtype=int32))"
      ]
     },
     "execution_count": 16,
     "metadata": {},
     "output_type": "execute_result"
    }
   ],
   "source": [
    "a=n.arange(1,6)\n",
    "print(a)\n",
    "b=n.arange(6,11)\n",
    "print(b)\n",
    "def math(a,b):\n",
    "    return n.add(a,b),n.subtract(a,b),n.multiply(a,b),n.divide(a,b),n.power(a,b),n.mod(b,a)\n",
    "math(a,b)"
   ]
  },
  {
   "cell_type": "code",
   "execution_count": 18,
   "id": "fa71e212",
   "metadata": {},
   "outputs": [
    {
     "data": {
      "text/plain": [
       "(array([1, 128, 6561, 262144, 9765625], dtype=object),\n",
       " array([0, 1, 2, 1, 0], dtype=object))"
      ]
     },
     "execution_count": 18,
     "metadata": {},
     "output_type": "execute_result"
    }
   ],
   "source": [
    "a=n.arange(1,6)\n",
    "b=n.arange(6,11)\n",
    "def power(a,b):\n",
    "    return n.power(a,b),n.mod(b,a)\n",
    "x=n.frompyfunc(power,2,2)\n",
    "x(a,b)"
   ]
  },
  {
   "cell_type": "raw",
   "id": "c80935e9",
   "metadata": {},
   "source": [
    "NUMPY ARRAY FUNCTIONS"
   ]
  },
  {
   "cell_type": "code",
   "execution_count": 39,
   "id": "9f87112d",
   "metadata": {},
   "outputs": [
    {
     "data": {
      "text/plain": [
       "array(12345.)"
      ]
     },
     "execution_count": 39,
     "metadata": {},
     "output_type": "execute_result"
    }
   ],
   "source": [
    "n.array([1,2,3,4,5]).reshape(5,1)\n",
    "n.zeros(5)\n",
    "n.ones(9)\n",
    "n.empty(7)\n",
    "n.arange(1,13).T\n",
    "n.save('assigment.npy',a)\n",
    "n.load('assigment.npy')\n",
    "n.loadtxt('untitled.txt')"
   ]
  },
  {
   "cell_type": "code",
   "execution_count": 7,
   "id": "016e9491",
   "metadata": {},
   "outputs": [
    {
     "data": {
      "text/plain": [
       "(array([True, True, True, True, True, True, True, True, True, True],\n",
       "       dtype=object),\n",
       " array([False, False, False, False, False, False, False, False, False,\n",
       "        False], dtype=object),\n",
       " array([True, True, True, True, True, True, True, True, True, True],\n",
       "       dtype=object),\n",
       " array([False, False, False, False, False, False, False, False, False,\n",
       "        False], dtype=object))"
      ]
     },
     "execution_count": 7,
     "metadata": {},
     "output_type": "execute_result"
    }
   ],
   "source": [
    "a=n.arange(1,11)\n",
    "b=n.arange(9,19)\n",
    "def comp(a,b):\n",
    "    return n.less(a,b),n.greater(a,b),n.less_equal(a,b),n.greater_equal(a,b)\n",
    "x=n.frompyfunc(comp,2,4)\n",
    "x(a,b)"
   ]
  },
  {
   "cell_type": "raw",
   "id": "5d1ef4f4",
   "metadata": {},
   "source": [
    "LOGICAL OPERATOR"
   ]
  },
  {
   "cell_type": "code",
   "execution_count": 75,
   "id": "d8b87ef8",
   "metadata": {},
   "outputs": [
    {
     "name": "stdout",
     "output_type": "stream",
     "text": [
      "[ True False False False]\n"
     ]
    }
   ],
   "source": [
    "# r=n.array([True,False,True,False])\n",
    "# t=n.array([False,True,True,False])\n",
    "# def comp(r,t):\n",
    "#     return n.logical_and(r,t),n.logical_or(r,t),n.logical_not(r)\n",
    "# x=n.frompyfunc(comp,2,3)\n",
    "# x(r,t)\n",
    "\n",
    "# i=n.array([0,1,2,3])\n",
    "# o=n.array([1,2,3,4])\n",
    "# def comp(h,j):\n",
    "#     return n.logical_and(h,j),n.logical_or(h,j),n.logical_not(h,j)\n",
    "# x=n.frompyfunc(comp,2,3)\n",
    "# x(i,o)\n",
    "\n",
    "i=n.array([0,1,2,3])\n",
    "o=n.array([1,2,3,4])\n",
    "print(n.logical_xor(i,o))"
   ]
  },
  {
   "cell_type": "raw",
   "id": "19d86679",
   "metadata": {},
   "source": [
    "NUMPY STRING FUNCTIONS"
   ]
  },
  {
   "cell_type": "code",
   "execution_count": 76,
   "id": "10534599",
   "metadata": {},
   "outputs": [
    {
     "data": {
      "text/plain": [
       "array(['and', 'what'], dtype='<U4')"
      ]
     },
     "execution_count": 76,
     "metadata": {},
     "output_type": "execute_result"
    }
   ],
   "source": [
    "a=n.array(['and','odd'])\n",
    "b=n.array(['you','is'])\n",
    "def char(a,b):\n",
    "    return n.char.add(a,b),n.char.multiply(a,2),n.char.upper(a),n.char.capitalize(a),n.char.join(a,b)\n",
    "x=n.frompyfunc(char,2,5)\n",
    "x(a,b)\n",
    "a=n.array(['and','what'])\n",
    "n.char.join('',a)"
   ]
  },
  {
   "cell_type": "code",
   "execution_count": 7,
   "id": "33e20609",
   "metadata": {
    "scrolled": true
   },
   "outputs": [
    {
     "data": {
      "text/plain": [
       "array([[5, 3, 6, 1],\n",
       "       [5, 3, 6, 1]])"
      ]
     },
     "execution_count": 7,
     "metadata": {},
     "output_type": "execute_result"
    }
   ],
   "source": [
    "a=n.array([[5,3,6,1]])\n",
    "n.repeat(a,2,axis=0)"
   ]
  },
  {
   "cell_type": "raw",
   "id": "b4b4e28e",
   "metadata": {},
   "source": [
    "given the following 1d array [1,2,3] ,repeat the array elements to create 2*6 array"
   ]
  },
  {
   "cell_type": "code",
   "execution_count": 16,
   "id": "f2da41ea",
   "metadata": {},
   "outputs": [
    {
     "data": {
      "text/plain": [
       "array([[[1, 2, 3, 1, 2, 3],\n",
       "        [1, 2, 3, 1, 2, 3]],\n",
       "\n",
       "       [[1, 2, 3, 1, 2, 3],\n",
       "        [1, 2, 3, 1, 2, 3]]])"
      ]
     },
     "execution_count": 16,
     "metadata": {},
     "output_type": "execute_result"
    }
   ],
   "source": [
    "a=n.array([1,2,3])\n",
    "n.repeat(a,4).reshape(2,6)\n",
    "a=n.array([1,2,3])\n",
    "n.tile(a,(2,2,2))"
   ]
  },
  {
   "cell_type": "code",
   "execution_count": 17,
   "id": "11ec1f17",
   "metadata": {},
   "outputs": [
    {
     "data": {
      "text/plain": [
       "array([2, 1, 0], dtype=int64)"
      ]
     },
     "execution_count": 17,
     "metadata": {},
     "output_type": "execute_result"
    }
   ],
   "source": [
    "a=n.array([9,5,1])\n",
    "n.argsort(a)"
   ]
  }
 ],
 "metadata": {
  "kernelspec": {
   "display_name": "Python 3 (ipykernel)",
   "language": "python",
   "name": "python3"
  },
  "language_info": {
   "codemirror_mode": {
    "name": "ipython",
    "version": 3
   },
   "file_extension": ".py",
   "mimetype": "text/x-python",
   "name": "python",
   "nbconvert_exporter": "python",
   "pygments_lexer": "ipython3",
   "version": "3.9.13"
  },
  "widgets": {
   "application/vnd.jupyter.widget-state+json": {
    "state": {},
    "version_major": 2,
    "version_minor": 0
   }
  }
 },
 "nbformat": 4,
 "nbformat_minor": 5
}
